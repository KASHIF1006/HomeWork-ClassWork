{
 "cells": [
  {
   "cell_type": "code",
   "execution_count": null,
   "metadata": {},
   "outputs": [],
   "source": [
    "availFlavours = [\"Fjita\", \"Tikka\", \"Mexican\"]\n",
    "availSize = [\"Large\", \"Medium\",\"Small\"]\n",
    "availToppings = [\"Olives\",\"Cheese\",\"Hurbs\"]\n",
    "\n",
    "print(\" - Print Order : \")\n",
    "print(\"-----------------\\n\")\n",
    "\n",
    "flag = True\n",
    "\n",
    "while flag :\n",
    "    print(\" 1). Choose Size from the given list : \",availSize,\"\\n\")\n",
    "    size = input(\" - Enter pizza Size : \")\n",
    "    if size not in availSize : \n",
    "        print(f\" - The {size} is not available, Please enter the size again.\")\n",
    "        size = input(\" - Enter pizza Size again : \")\n",
    "        if size in availSize : \n",
    "            print(\" - The Size is available.\")\n",
    "            flag = False \n",
    "    else:\n",
    "        print(\" - The Size is available.\")\n",
    "        flag = False\n",
    "\n",
    "flag = True       \n",
    "\n",
    "while flag :\n",
    "    print(\"\\n 2). Choose Flavour from the given list :\",availFlavours,\"\\n\")\n",
    "    flavour = input(\" - Enter pizza flavour : \")\n",
    "    if flavour not in availFlavours : \n",
    "        print(f\" - The {flavour} is not available, Please enter the flavour again.\")\n",
    "        flavour = input(\" - Enter pizza flavour again : \")\n",
    "        if flavour in availFlavours : \n",
    "            print(\" - The Flavour is available.\")\n",
    "            flag = False \n",
    "    else:\n",
    "        print(\" - The Flavour is available.\")\n",
    "        flag = False\n",
    "\n",
    "flag = True\n",
    "\n",
    "while flag :\n",
    "    print(\"\\n 3). Choose Topping from the given List :\",availToppings,\"\\n\")\n",
    "    top = input(\" - Enter pizza's Topping : \")\n",
    "    if top not in availToppings : \n",
    "        print(f\" - The {top} is not available, Please enter the Topping again.\")\n",
    "        top = input(\" - Enter pizza Topping again : \")\n",
    "        if top in availToppings : \n",
    "            print(\" - The Topping is available.\")\n",
    "            flag = False \n",
    "    else:\n",
    "        print(\" - The Topping is available.\")\n",
    "        flag = False\n",
    "        \n",
    "print(\"\\n - The Order Recorded Successfully!\")"
   ]
  }
 ],
 "metadata": {
  "kernelspec": {
   "display_name": "Python 3",
   "language": "python",
   "name": "python3"
  },
  "language_info": {
   "codemirror_mode": {
    "name": "ipython",
    "version": 3
   },
   "file_extension": ".py",
   "mimetype": "text/x-python",
   "name": "python",
   "nbconvert_exporter": "python",
   "pygments_lexer": "ipython3",
   "version": "3.7.3"
  }
 },
 "nbformat": 4,
 "nbformat_minor": 2
}
