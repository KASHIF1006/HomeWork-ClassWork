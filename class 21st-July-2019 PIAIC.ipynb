{
 "cells": [
  {
   "cell_type": "markdown",
   "metadata": {},
   "source": [
    "# Inheritance"
   ]
  },
  {
   "cell_type": "code",
   "execution_count": 26,
   "metadata": {},
   "outputs": [],
   "source": [
    "class Car():\n",
    "    def __init__(self,name,model,year):\n",
    "        self.name = name\n",
    "        self.model = model\n",
    "        self.year = year\n",
    "        self.battery = 0\n",
    "    \n",
    "    def desCar(self):\n",
    "        print(f\" - Description {self.name} & {self.model} & (self.year)\")\n",
    "        \n",
    "    def getBattery(self):\n",
    "        print(f\" - The Battery of the Car is : {self.battery}\")\n",
    "    \n",
    "    def setBattery(self,newSize):\n",
    "        self.battery = newSize"
   ]
  },
  {
   "cell_type": "code",
   "execution_count": 27,
   "metadata": {},
   "outputs": [],
   "source": [
    "carName = Car(\"civic\",2019,2020)"
   ]
  },
  {
   "cell_type": "code",
   "execution_count": 28,
   "metadata": {},
   "outputs": [],
   "source": [
    "carName.setBattery(100)"
   ]
  },
  {
   "cell_type": "code",
   "execution_count": 29,
   "metadata": {},
   "outputs": [
    {
     "name": "stdout",
     "output_type": "stream",
     "text": [
      " - The Battery of the Car is : 100\n"
     ]
    }
   ],
   "source": [
    "carName.getBattery()"
   ]
  },
  {
   "cell_type": "code",
   "execution_count": 31,
   "metadata": {},
   "outputs": [],
   "source": [
    "class ElectricCar(Car):\n",
    "    pass"
   ]
  },
  {
   "cell_type": "code",
   "execution_count": 32,
   "metadata": {},
   "outputs": [],
   "source": [
    "elec = ElectricCar(\"civic\",2019,2020)"
   ]
  },
  {
   "cell_type": "code",
   "execution_count": 34,
   "metadata": {},
   "outputs": [],
   "source": [
    "elec.setBattery(50)"
   ]
  },
  {
   "cell_type": "code",
   "execution_count": 36,
   "metadata": {},
   "outputs": [
    {
     "name": "stdout",
     "output_type": "stream",
     "text": [
      " - The Battery of the Car is : 50\n"
     ]
    }
   ],
   "source": [
    "elec.getBattery()"
   ]
  },
  {
   "cell_type": "code",
   "execution_count": 77,
   "metadata": {},
   "outputs": [],
   "source": [
    "class Battery():\n",
    "    def __init__(self, name, manu, warranty, price):\n",
    "        self.name = name \n",
    "        self.manu = manu\n",
    "        self.warranty = warranty\n",
    "        self.price = price\n",
    "        self.size = 0\n",
    "        \n",
    "    def getBatterySize(self):\n",
    "            print(f\" - The new Size of the Battery will be : {self.size}\")\n",
    "            \n",
    "    def setBatterySize(self, newSize):\n",
    "            self.size = newSize\n",
    "            "
   ]
  },
  {
   "cell_type": "code",
   "execution_count": 78,
   "metadata": {},
   "outputs": [],
   "source": [
    "class classCar():\n",
    "    def __init__(self, carName, carModel, carWarrenty, battery):\n",
    "        self.carName = carName\n",
    "        self.carModel = carModel\n",
    "        self.carWarrenty = carWarrenty\n",
    "        self.battery = Battery(\"civic\", \"yes\",\"1 year\", \"10000\")"
   ]
  },
  {
   "cell_type": "code",
   "execution_count": 79,
   "metadata": {},
   "outputs": [],
   "source": [
    "car = classCar(\"civic\",\"2019\",\"yes\", \"10AMP\")"
   ]
  },
  {
   "cell_type": "code",
   "execution_count": 80,
   "metadata": {},
   "outputs": [],
   "source": [
    "car.battery.setBatterySize(50)"
   ]
  },
  {
   "cell_type": "code",
   "execution_count": 81,
   "metadata": {},
   "outputs": [
    {
     "name": "stdout",
     "output_type": "stream",
     "text": [
      " - The new Size of the Battery will be : 50\n"
     ]
    }
   ],
   "source": [
    "car.battery.getBatterySize()"
   ]
  },
  {
   "cell_type": "markdown",
   "metadata": {},
   "source": [
    "# Data Files Read Write"
   ]
  },
  {
   "cell_type": "code",
   "execution_count": 88,
   "metadata": {},
   "outputs": [],
   "source": [
    "with open(\"File.txt\", \"w\") as f: #Handler\n",
    "    f.write(\" - I am writing in this file for the first time.\")"
   ]
  },
  {
   "cell_type": "code",
   "execution_count": 86,
   "metadata": {},
   "outputs": [],
   "source": [
    "with open(\"File02.txt\", \"w\") as f: #Handler\n",
    "    f.write(\" - I am writing in this file for the first time.\")\n",
    "    f.write(\" - I am writing in this file for the second time.\")"
   ]
  },
  {
   "cell_type": "code",
   "execution_count": 91,
   "metadata": {},
   "outputs": [
    {
     "name": "stdout",
     "output_type": "stream",
     "text": [
      " - I am writing in this file for the first time.\n"
     ]
    }
   ],
   "source": [
    "with open(\"File.txt\", \"r\") as file:\n",
    "    content = file.read()\n",
    "    print(content)"
   ]
  },
  {
   "cell_type": "code",
   "execution_count": 96,
   "metadata": {},
   "outputs": [
    {
     "name": "stdout",
     "output_type": "stream",
     "text": [
      "{\n",
      " \"cells\": [\n",
      "  {\n",
      "   \"cell_type\": \"code\",\n",
      "   \"execution_count\": null,\n",
      "   \"metadata\": {},\n",
      "   \"outputs\": [],\n",
      "   \"source\": [\n",
      "    \"availFlavours = [\\\"Fjita\\\", \\\"Tikka\\\", \\\"Mexican\\\"]\\n\",\n",
      "    \"availSize = [\\\"Large\\\", \\\"Medium\\\",\\\"Small\\\"]\\n\",\n",
      "    \"availToppings = [\\\"Olives\\\",\\\"Cheese\\\",\\\"Hurbs\\\"]\\n\",\n",
      "    \"\\n\",\n",
      "    \"print(\\\" - Print Order : \\\")\\n\",\n",
      "    \"print(\\\"-----------------\\\\n\\\")\\n\",\n",
      "    \"\\n\",\n",
      "    \"flag = True\\n\",\n",
      "    \"\\n\",\n",
      "    \"while flag :\\n\",\n",
      "    \"    print(\\\" 1). Choose Size from the given list : \\\",availSize,\\\"\\\\n\\\")\\n\",\n",
      "    \"    size = input(\\\" - Enter pizza Size : \\\")\\n\",\n",
      "    \"    if size not in availSize : \\n\",\n",
      "    \"        print(f\\\" - The {size} is not available, Please enter the size again.\\\")\\n\",\n",
      "    \"        size = input(\\\" - Enter pizza Size again : \\\")\\n\",\n",
      "    \"        if size in availSize : \\n\",\n",
      "    \"            print(\\\" - The Size is available.\\\")\\n\",\n",
      "    \"            flag = False \\n\",\n",
      "    \"    else:\\n\",\n",
      "    \"        print(\\\" - The Size is available.\\\")\\n\",\n",
      "    \"        flag = False\\n\",\n",
      "    \"\\n\",\n",
      "    \"flag = True       \\n\",\n",
      "    \"\\n\",\n",
      "    \"while flag :\\n\",\n",
      "    \"    print(\\\"\\\\n 2). Choose Flavour from the given list :\\\",availFlavours,\\\"\\\\n\\\")\\n\",\n",
      "    \"    flavour = input(\\\" - Enter pizza flavour : \\\")\\n\",\n",
      "    \"    if flavour not in availFlavours : \\n\",\n",
      "    \"        print(f\\\" - The {flavour} is not available, Please enter the flavour again.\\\")\\n\",\n",
      "    \"        flavour = input(\\\" - Enter pizza flavour again : \\\")\\n\",\n",
      "    \"        if flavour in availFlavours : \\n\",\n",
      "    \"            print(\\\" - The Flavour is available.\\\")\\n\",\n",
      "    \"            flag = False \\n\",\n",
      "    \"    else:\\n\",\n",
      "    \"        print(\\\" - The Flavour is available.\\\")\\n\",\n",
      "    \"        flag = False\\n\",\n",
      "    \"\\n\",\n",
      "    \"flag = True\\n\",\n",
      "    \"\\n\",\n",
      "    \"while flag :\\n\",\n",
      "    \"    print(\\\"\\\\n 3). Choose Topping from the given List :\\\",availToppings,\\\"\\\\n\\\")\\n\",\n",
      "    \"    top = input(\\\" - Enter pizza's Topping : \\\")\\n\",\n",
      "    \"    if top not in availToppings : \\n\",\n",
      "    \"        print(f\\\" - The {top} is not available, Please enter the Topping again.\\\")\\n\",\n",
      "    \"        top = input(\\\" - Enter pizza Topping again : \\\")\\n\",\n",
      "    \"        if top in availToppings : \\n\",\n",
      "    \"            print(\\\" - The Topping is available.\\\")\\n\",\n",
      "    \"            flag = False \\n\",\n",
      "    \"    else:\\n\",\n",
      "    \"        print(\\\" - The Topping is available.\\\")\\n\",\n",
      "    \"        flag = False\\n\",\n",
      "    \"        \\n\",\n",
      "    \"print(\\\"\\\\n - The Order Recorded Successfully!\\\")\"\n",
      "   ]\n",
      "  }\n",
      " ],\n",
      " \"metadata\": {\n",
      "  \"kernelspec\": {\n",
      "   \"display_name\": \"Python 3\",\n",
      "   \"language\": \"python\",\n",
      "   \"name\": \"python3\"\n",
      "  },\n",
      "  \"language_info\": {\n",
      "   \"codemirror_mode\": {\n",
      "    \"name\": \"ipython\",\n",
      "    \"version\": 3\n",
      "   },\n",
      "   \"file_extension\": \".py\",\n",
      "   \"mimetype\": \"text/x-python\",\n",
      "   \"name\": \"python\",\n",
      "   \"nbconvert_exporter\": \"python\",\n",
      "   \"pygments_lexer\": \"ipython3\",\n",
      "   \"version\": \"3.7.3\"\n",
      "  }\n",
      " },\n",
      " \"nbformat\": 4,\n",
      " \"nbformat_minor\": 2\n",
      "}\n",
      "\n"
     ]
    }
   ],
   "source": [
    "with open(\"home Assignment Python.ipynb\", \"r\") as file:\n",
    "    content = file.read()\n",
    "    print(content)"
   ]
  },
  {
   "cell_type": "code",
   "execution_count": 111,
   "metadata": {},
   "outputs": [],
   "source": [
    "with open(\"File.txt\", \"a\") as f: #Handler\n",
    "    f.write(\" - I am writing in this file for the second time.\")"
   ]
  },
  {
   "cell_type": "code",
   "execution_count": 112,
   "metadata": {},
   "outputs": [
    {
     "name": "stdout",
     "output_type": "stream",
     "text": [
      " - I am writing in this file for the second time.\n"
     ]
    }
   ],
   "source": [
    "with open(\"File.txt\", \"r+\") as f: #Handler\n",
    "    f.write(\" - I am writing in this file for the file time.\")\n",
    "    content = f.read()\n",
    "    print(content)"
   ]
  },
  {
   "cell_type": "code",
   "execution_count": 113,
   "metadata": {},
   "outputs": [
    {
     "name": "stdout",
     "output_type": "stream",
     "text": [
      "akistan\n"
     ]
    }
   ],
   "source": [
    "with open(\"File03.txt\", \"w+\") as f: #Handler\n",
    "    f.write(\" - Pakistan\")\n",
    "    f.seek(4)\n",
    "    content = f.read()\n",
    "    print(content)"
   ]
  },
  {
   "cell_type": "code",
   "execution_count": 117,
   "metadata": {},
   "outputs": [
    {
     "name": "stdout",
     "output_type": "stream",
     "text": [
      "[1, 4, 9, 16, 25, 36]\n"
     ]
    }
   ],
   "source": [
    "a = [1,2,3,4,5,6]\n",
    "\n",
    "square = []\n",
    "\n",
    "for num in a:\n",
    "    square.append(num**2)\n",
    "    \n",
    "print(square)"
   ]
  },
  {
   "cell_type": "markdown",
   "metadata": {},
   "source": [
    "# List Comprehension"
   ]
  },
  {
   "cell_type": "code",
   "execution_count": 118,
   "metadata": {},
   "outputs": [
    {
     "data": {
      "text/plain": [
       "[1, 4, 9, 16, 25, 36]"
      ]
     },
     "execution_count": 118,
     "metadata": {},
     "output_type": "execute_result"
    }
   ],
   "source": [
    "[num**2 for num in a ]"
   ]
  },
  {
   "cell_type": "code",
   "execution_count": null,
   "metadata": {},
   "outputs": [],
   "source": []
  }
 ],
 "metadata": {
  "kernelspec": {
   "display_name": "Python 3",
   "language": "python",
   "name": "python3"
  },
  "language_info": {
   "codemirror_mode": {
    "name": "ipython",
    "version": 3
   },
   "file_extension": ".py",
   "mimetype": "text/x-python",
   "name": "python",
   "nbconvert_exporter": "python",
   "pygments_lexer": "ipython3",
   "version": "3.6.8"
  }
 },
 "nbformat": 4,
 "nbformat_minor": 2
}
