{
 "cells": [
  {
   "cell_type": "markdown",
   "metadata": {},
   "source": [
    "# Classes and Objects"
   ]
  },
  {
   "cell_type": "code",
   "execution_count": 225,
   "metadata": {},
   "outputs": [],
   "source": [
    "class Mobile():\n",
    "    #attributes : Class Member Variables : \n",
    "    def __init__(self, brand,color,screenSize,memory,ram,price=\"free\"):\n",
    "        self.color = color\n",
    "        self.brand = brand\n",
    "        self.screenSize = screenSize\n",
    "        self.price = price\n",
    "        self.memory = memory\n",
    "        self.ram = ram\n",
    "    \n",
    "    #Behaviours : Class Member Functions : \n",
    "    def makeACall(self):\n",
    "        print(f\" - {self.brand} is Calling!\")\n",
    "    \n",
    "    def revACall(self):\n",
    "        print(f\" - {self.brand} is Recieving!\")\n",
    "    \n",
    "    def sendMessage(self):\n",
    "        print(f\" - {self.brand} is Sending Message!\")\n",
    "    \n",
    "    def recvMessage(self):\n",
    "        print(f\" - {self.brand} is Recieving Messsage!\")\n",
    "    \n",
    "    def pressKeypad(self):\n",
    "        print(\" - The mobile has keypad.\")\n",
    "    "
   ]
  },
  {
   "cell_type": "code",
   "execution_count": 226,
   "metadata": {},
   "outputs": [],
   "source": [
    "mobile1 = Mobile(\"Nokia\",\"Black\",\"Large\",10000,\"10GB\",\"2GB\")"
   ]
  },
  {
   "cell_type": "code",
   "execution_count": 227,
   "metadata": {},
   "outputs": [],
   "source": [
    "mobile2 = Mobile(\"Samsung\",\"Blue\",\"Medium\",\"20GB\", \"4GB\")"
   ]
  },
  {
   "cell_type": "code",
   "execution_count": 228,
   "metadata": {},
   "outputs": [
    {
     "name": "stdout",
     "output_type": "stream",
     "text": [
      " - Nokia is Calling!\n"
     ]
    }
   ],
   "source": [
    "#Calling Member Function of a class\n",
    "\n",
    "mobile1.makeACall()"
   ]
  },
  {
   "cell_type": "code",
   "execution_count": 229,
   "metadata": {},
   "outputs": [
    {
     "name": "stdout",
     "output_type": "stream",
     "text": [
      " - Samsung is Calling!\n"
     ]
    }
   ],
   "source": [
    "mobile2.makeACall()"
   ]
  },
  {
   "cell_type": "code",
   "execution_count": 230,
   "metadata": {},
   "outputs": [
    {
     "data": {
      "text/plain": [
       "'Black'"
      ]
     },
     "execution_count": 230,
     "metadata": {},
     "output_type": "execute_result"
    }
   ],
   "source": [
    "mobile1.color"
   ]
  },
  {
   "cell_type": "code",
   "execution_count": 231,
   "metadata": {},
   "outputs": [
    {
     "data": {
      "text/plain": [
       "'Blue'"
      ]
     },
     "execution_count": 231,
     "metadata": {},
     "output_type": "execute_result"
    }
   ],
   "source": [
    "mobile2.color"
   ]
  },
  {
   "cell_type": "code",
   "execution_count": 232,
   "metadata": {},
   "outputs": [],
   "source": [
    "class Student():\n",
    "    \n",
    "    def __init__(self, name, gender, course, email):\n",
    "        self.name = name\n",
    "        self.gender = gender\n",
    "        self.course = course\n",
    "        self.email = email\n",
    "        self.GPA = 0\n",
    "    \n",
    "    def setGPA(self,newGPA):\n",
    "        self.GPA = newGPA\n",
    "        \n",
    "    def getGPA(self):\n",
    "        print(f\" - The GPA of {self.name} is {self.GPA}\")\n",
    "    \n",
    "    def study(self):\n",
    "        print(f\" - {self.name} is Studying.\")\n",
    "        \n",
    "    def exam(self):\n",
    "        print(f\" - {self.name} is appearing in exam.\")\n",
    "        \n",
    "    def submit(self):\n",
    "        print(f\" - {self.name} is submitting Assignment.\")\n",
    "        "
   ]
  },
  {
   "cell_type": "code",
   "execution_count": 233,
   "metadata": {},
   "outputs": [],
   "source": [
    "student_One = Student(\"Kashif\",\"Male\",\"BSCS\",\"kashif.mmn1999@gmail.com\")"
   ]
  },
  {
   "cell_type": "code",
   "execution_count": 234,
   "metadata": {},
   "outputs": [],
   "source": [
    "student_Two = Student(\"Qasim\",\"Male,\",\"BSME\",\"qasim@gmail.com\")"
   ]
  },
  {
   "cell_type": "code",
   "execution_count": 235,
   "metadata": {},
   "outputs": [
    {
     "name": "stdout",
     "output_type": "stream",
     "text": [
      " - Kashif is Studying.\n"
     ]
    }
   ],
   "source": [
    "student_One.study()"
   ]
  },
  {
   "cell_type": "code",
   "execution_count": 236,
   "metadata": {},
   "outputs": [
    {
     "name": "stdout",
     "output_type": "stream",
     "text": [
      " - Qasim is Studying.\n"
     ]
    }
   ],
   "source": [
    "student_Two.study()"
   ]
  },
  {
   "cell_type": "code",
   "execution_count": 237,
   "metadata": {},
   "outputs": [
    {
     "name": "stdout",
     "output_type": "stream",
     "text": [
      " - Kashif is appearing in exam.\n"
     ]
    }
   ],
   "source": [
    "student_One.exam()"
   ]
  },
  {
   "cell_type": "code",
   "execution_count": 238,
   "metadata": {},
   "outputs": [
    {
     "name": "stdout",
     "output_type": "stream",
     "text": [
      " - Qasim is appearing in exam.\n"
     ]
    }
   ],
   "source": [
    "student_Two.exam()"
   ]
  },
  {
   "cell_type": "code",
   "execution_count": 239,
   "metadata": {},
   "outputs": [
    {
     "data": {
      "text/plain": [
       "0"
      ]
     },
     "execution_count": 239,
     "metadata": {},
     "output_type": "execute_result"
    }
   ],
   "source": [
    "student_One.GPA"
   ]
  },
  {
   "cell_type": "code",
   "execution_count": 240,
   "metadata": {},
   "outputs": [
    {
     "data": {
      "text/plain": [
       "0"
      ]
     },
     "execution_count": 240,
     "metadata": {},
     "output_type": "execute_result"
    }
   ],
   "source": [
    "student_Two.GPA "
   ]
  },
  {
   "cell_type": "code",
   "execution_count": 241,
   "metadata": {},
   "outputs": [],
   "source": [
    "student_Two.GPA = 3.2"
   ]
  },
  {
   "cell_type": "code",
   "execution_count": 242,
   "metadata": {},
   "outputs": [
    {
     "data": {
      "text/plain": [
       "3.2"
      ]
     },
     "execution_count": 242,
     "metadata": {},
     "output_type": "execute_result"
    }
   ],
   "source": [
    "student_Two.GPA"
   ]
  },
  {
   "cell_type": "markdown",
   "metadata": {},
   "source": [
    "# Updating a value of attribute via Function"
   ]
  },
  {
   "cell_type": "code",
   "execution_count": 243,
   "metadata": {},
   "outputs": [],
   "source": [
    "student_One.setGPA(3.3)"
   ]
  },
  {
   "cell_type": "code",
   "execution_count": 244,
   "metadata": {},
   "outputs": [
    {
     "name": "stdout",
     "output_type": "stream",
     "text": [
      " - The GPA of Kashif is 3.3\n"
     ]
    }
   ],
   "source": [
    "student_One.getGPA()"
   ]
  },
  {
   "cell_type": "markdown",
   "metadata": {},
   "source": [
    "# Inheritance"
   ]
  },
  {
   "cell_type": "code",
   "execution_count": 257,
   "metadata": {},
   "outputs": [],
   "source": [
    "class SmartMobile(Mobile):\n",
    "    def __init__(self,brand, color,screenSize, price, memory,ram):\n",
    "        super(). __init__(brand, color, screenSize, price, memory, ram)\n",
    "        self.battery = \"10amp\"\n",
    "        \n",
    "    def camera(self):\n",
    "        print(f\"- {self.brand} has Camera.\")\n",
    "    \n",
    "    def pressKeypad(self):\n",
    "        print(\" - The smartphone has no keypad.\")\n",
    "        \n",
    "        "
   ]
  },
  {
   "cell_type": "code",
   "execution_count": 258,
   "metadata": {},
   "outputs": [],
   "source": [
    "sM1 = SmartMobile(\"Nokia\",\"Black\",\"Large\",10000,\"10GB\",\"2GB\")"
   ]
  },
  {
   "cell_type": "code",
   "execution_count": 259,
   "metadata": {},
   "outputs": [
    {
     "data": {
      "text/plain": [
       "'Black'"
      ]
     },
     "execution_count": 259,
     "metadata": {},
     "output_type": "execute_result"
    }
   ],
   "source": [
    "sM1.color"
   ]
  },
  {
   "cell_type": "code",
   "execution_count": 260,
   "metadata": {},
   "outputs": [
    {
     "name": "stdout",
     "output_type": "stream",
     "text": [
      " - Nokia is Calling!\n"
     ]
    }
   ],
   "source": [
    "sM1.makeACall()"
   ]
  },
  {
   "cell_type": "code",
   "execution_count": 261,
   "metadata": {},
   "outputs": [
    {
     "name": "stdout",
     "output_type": "stream",
     "text": [
      "- Nokia has Camera.\n"
     ]
    }
   ],
   "source": [
    "sM1.camera()"
   ]
  },
  {
   "cell_type": "code",
   "execution_count": 262,
   "metadata": {},
   "outputs": [
    {
     "name": "stdout",
     "output_type": "stream",
     "text": [
      " - The smartphone has no keypad.\n"
     ]
    }
   ],
   "source": [
    "sM1.pressKeypad()"
   ]
  },
  {
   "cell_type": "code",
   "execution_count": null,
   "metadata": {},
   "outputs": [],
   "source": []
  }
 ],
 "metadata": {
  "kernelspec": {
   "display_name": "Python 3",
   "language": "python",
   "name": "python3"
  },
  "language_info": {
   "codemirror_mode": {
    "name": "ipython",
    "version": 3
   },
   "file_extension": ".py",
   "mimetype": "text/x-python",
   "name": "python",
   "nbconvert_exporter": "python",
   "pygments_lexer": "ipython3",
   "version": "3.7.3"
  }
 },
 "nbformat": 4,
 "nbformat_minor": 2
}
