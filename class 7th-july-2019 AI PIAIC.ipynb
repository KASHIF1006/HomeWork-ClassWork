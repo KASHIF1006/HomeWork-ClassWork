{
 "cells": [
  {
   "cell_type": "markdown",
   "metadata": {},
   "source": [
    "# Args, Kwargs"
   ]
  },
  {
   "cell_type": "code",
   "execution_count": null,
   "metadata": {},
   "outputs": [],
   "source": [
    "def car(model, year):\n",
    "    print(model, year)"
   ]
  },
  {
   "cell_type": "code",
   "execution_count": null,
   "metadata": {},
   "outputs": [],
   "source": [
    "car('civic', 2019)"
   ]
  },
  {
   "cell_type": "code",
   "execution_count": null,
   "metadata": {},
   "outputs": [],
   "source": [
    "car(2019, 'civic')   #Wrong argument"
   ]
  },
  {
   "cell_type": "code",
   "execution_count": null,
   "metadata": {},
   "outputs": [],
   "source": [
    "car(year=2019, model='cultus')"
   ]
  },
  {
   "cell_type": "code",
   "execution_count": null,
   "metadata": {},
   "outputs": [],
   "source": [
    "def name(fName, lName):\n",
    "    print(fName, lName)"
   ]
  },
  {
   "cell_type": "code",
   "execution_count": null,
   "metadata": {},
   "outputs": [],
   "source": [
    "name('kashif', 'anwar')"
   ]
  },
  {
   "cell_type": "code",
   "execution_count": null,
   "metadata": {},
   "outputs": [],
   "source": [
    "name('anwar', 'kashif')     #Wrong argument."
   ]
  },
  {
   "cell_type": "code",
   "execution_count": null,
   "metadata": {},
   "outputs": [],
   "source": [
    "name(fName='Kashif', lName='Anwar')"
   ]
  },
  {
   "cell_type": "code",
   "execution_count": null,
   "metadata": {},
   "outputs": [],
   "source": [
    "def name(fName, mName,lName):\n",
    "    print(f' - First Name is : {fName}')\n",
    "    print(f' - Middle Name is : {mName}')\n",
    "    print(f' - Last Name is : {lName}')"
   ]
  },
  {
   "cell_type": "code",
   "execution_count": null,
   "metadata": {},
   "outputs": [],
   "source": [
    "name('Muhammad',mName='kashif', lName)     #Wrong."
   ]
  },
  {
   "cell_type": "code",
   "execution_count": null,
   "metadata": {},
   "outputs": [],
   "source": [
    "name('Muhammad','Kashif',lName='Anwar')"
   ]
  },
  {
   "cell_type": "markdown",
   "metadata": {},
   "source": [
    "# Arbitary Number of Arguments "
   ]
  },
  {
   "cell_type": "code",
   "execution_count": null,
   "metadata": {},
   "outputs": [],
   "source": [
    "def pizza(size, flavour, *toppings):\n",
    "    print(size, flavour)\n",
    "    print(toppings)"
   ]
  },
  {
   "cell_type": "code",
   "execution_count": null,
   "metadata": {},
   "outputs": [],
   "source": [
    "pizza('large', 'barbeque','extra cheese','olives')"
   ]
  },
  {
   "cell_type": "code",
   "execution_count": null,
   "metadata": {},
   "outputs": [],
   "source": [
    "pizza('large', 'barbeque','extra cheese','olives','mashrooms')"
   ]
  },
  {
   "cell_type": "code",
   "execution_count": null,
   "metadata": {},
   "outputs": [],
   "source": [
    "def car(make, model, **specs):    #**var used for keyword argument as a dictionary.\n",
    "    print(make, model)\n",
    "    print(specs)"
   ]
  },
  {
   "cell_type": "code",
   "execution_count": null,
   "metadata": {},
   "outputs": [],
   "source": [
    "car('toyota','pruis',transmission='Autoamtic', power='yes')"
   ]
  },
  {
   "cell_type": "markdown",
   "metadata": {},
   "source": [
    "# Function as a Variable "
   ]
  },
  {
   "cell_type": "code",
   "execution_count": null,
   "metadata": {},
   "outputs": [],
   "source": [
    "def add(a,b):\n",
    "    c = a + b\n",
    "    return c"
   ]
  },
  {
   "cell_type": "code",
   "execution_count": null,
   "metadata": {},
   "outputs": [],
   "source": [
    "def sub(a,b):\n",
    "    c = a - b\n",
    "    return c"
   ]
  },
  {
   "cell_type": "code",
   "execution_count": null,
   "metadata": {},
   "outputs": [],
   "source": [
    "result = add(2,2) + sub(6,3)         # 4 + 3 = 7"
   ]
  },
  {
   "cell_type": "code",
   "execution_count": null,
   "metadata": {},
   "outputs": [],
   "source": [
    "print(result)"
   ]
  },
  {
   "cell_type": "code",
   "execution_count": null,
   "metadata": {},
   "outputs": [],
   "source": [
    "res02 = add('kashif',' anwar')     #Can't Subraction, addition will concate."
   ]
  },
  {
   "cell_type": "code",
   "execution_count": null,
   "metadata": {},
   "outputs": [],
   "source": [
    "print(res02)"
   ]
  },
  {
   "cell_type": "markdown",
   "metadata": {},
   "source": [
    "# While Loop"
   ]
  },
  {
   "cell_type": "code",
   "execution_count": null,
   "metadata": {},
   "outputs": [],
   "source": [
    "a=1\n",
    "\n",
    "while a<10 : \n",
    "    print(a)\n",
    "    a =a+1"
   ]
  },
  {
   "cell_type": "code",
   "execution_count": null,
   "metadata": {},
   "outputs": [],
   "source": [
    "a=1 \n",
    "\n",
    "while a : \n",
    "    print(a)\n",
    "    a=a+1\n",
    "    \n",
    "    if a == 11 :\n",
    "        break"
   ]
  },
  {
   "cell_type": "code",
   "execution_count": null,
   "metadata": {},
   "outputs": [],
   "source": [
    "topping=[]\n",
    "\n",
    "for a in range(5) :\n",
    "    toppings = input(\" - Enter a topping : \")\n",
    "    topping.append(toppings)\n",
    "\n",
    "print(topping)"
   ]
  },
  {
   "cell_type": "code",
   "execution_count": null,
   "metadata": {},
   "outputs": [],
   "source": [
    "toppings = []\n",
    "flag = True \n",
    "\n",
    "while flag :\n",
    "    topping = input(\" - Enter a topping : \")\n",
    "    toppings.append(topping)\n",
    "    if topping == 'q' : \n",
    "        flag = False \n",
    "\n",
    "print(toppings)"
   ]
  },
  {
   "cell_type": "code",
   "execution_count": null,
   "metadata": {},
   "outputs": [],
   "source": [
    "toppings = []\n",
    "flag = True \n",
    "\n",
    "while flag :\n",
    "    topping = input(\" - Enter a topping : \")\n",
    "    toppings.append(topping)\n",
    "    if topping == 'q' : \n",
    "        flag = False \n",
    "        toppings.remove('q')\n",
    "\n",
    "print(toppings)"
   ]
  },
  {
   "cell_type": "code",
   "execution_count": null,
   "metadata": {},
   "outputs": [],
   "source": [
    "toppings = []\n",
    "flag = True \n",
    "\n",
    "while flag :\n",
    "    topping = input(\" - Enter a topping : \")\n",
    "    \n",
    "    if topping == 'q' :\n",
    "        flag = False\n",
    "    else :\n",
    "        toppings.append(topping)\n",
    "    \n",
    "print(toppings)"
   ]
  },
  {
   "cell_type": "code",
   "execution_count": 6,
   "metadata": {},
   "outputs": [
    {
     "name": "stdout",
     "output_type": "stream",
     "text": [
      " - Print Order : \n",
      "-----------------\n",
      "\n",
      " 1). Choose Size from the given list :  ['Large', 'Medium', 'Small'] \n",
      "\n",
      " - Enter pizza Size : large\n",
      " - The large is not available, Please enter the size again.\n",
      " - Enter pizza Size again : Large\n",
      " - The Size is available.\n",
      "\n",
      " 2). Choose Flavour from the given list : ['Fjita', 'Tikka', 'Mexican'] \n",
      "\n",
      " - Enter pizza flavour : tikka\n",
      " - The tikka is not available, Please enter the flavour again.\n",
      " - Enter pizza flavour again : Tikka\n",
      " - The Flavour is available.\n",
      "\n",
      " 3). Choose Topping from the given List : ['Olives', 'Cheese', 'Hurbs'] \n",
      "\n",
      " - Enter pizza's Topping : olives\n",
      " - The olives is not available, Please enter the Topping again.\n",
      " - Enter pizza Topping again : Olives\n",
      " - The Topping is available.\n",
      "\n",
      " - The Order Recorded Successfully!\n"
     ]
    }
   ],
   "source": [
    "availFlavours = [\"Fjita\", \"Tikka\", \"Mexican\"]\n",
    "availSize = [\"Large\", \"Medium\",\"Small\"]\n",
    "availToppings = [\"Olives\",\"Cheese\",\"Hurbs\"]\n",
    "\n",
    "print(\" - Print Order : \")\n",
    "print(\"-----------------\\n\")\n",
    "\n",
    "flag = True\n",
    "\n",
    "while flag :\n",
    "    print(\" 1). Choose Size from the given list : \",availSize,\"\\n\")\n",
    "    size = input(\" - Enter pizza Size : \")\n",
    "    if size not in availSize : \n",
    "        print(f\" - The {size} is not available, Please enter the size again.\")\n",
    "        size = input(\" - Enter pizza Size again : \")\n",
    "        if size in availSize : \n",
    "            print(\" - The Size is available.\")\n",
    "            flag = False \n",
    "    else:\n",
    "        print(\" - The Size is available.\")\n",
    "        flag = False\n",
    "\n",
    "flag = True       \n",
    "\n",
    "while flag :\n",
    "    print(\"\\n 2). Choose Flavour from the given list :\",availFlavours,\"\\n\")\n",
    "    flavour = input(\" - Enter pizza flavour : \")\n",
    "    if flavour not in availFlavours : \n",
    "        print(f\" - The {flavour} is not available, Please enter the flavour again.\")\n",
    "        flavour = input(\" - Enter pizza flavour again : \")\n",
    "        if flavour in availFlavours : \n",
    "            print(\" - The Flavour is available.\")\n",
    "            flag = False \n",
    "    else:\n",
    "        print(\" - The Flavour is available.\")\n",
    "        flag = False\n",
    "\n",
    "flag = True\n",
    "\n",
    "while flag :\n",
    "    print(\"\\n 3). Choose Topping from the given List :\",availToppings,\"\\n\")\n",
    "    top = input(\" - Enter pizza's Topping : \")\n",
    "    if top not in availToppings : \n",
    "        print(f\" - The {top} is not available, Please enter the Topping again.\")\n",
    "        top = input(\" - Enter pizza Topping again : \")\n",
    "        if top in availToppings : \n",
    "            print(\" - The Topping is available.\")\n",
    "            flag = False \n",
    "    else:\n",
    "        print(\" - The Topping is available.\")\n",
    "        flag = False\n",
    "        \n",
    "print(\"\\n - The Order Recorded Successfully!\")"
   ]
  },
  {
   "cell_type": "code",
   "execution_count": null,
   "metadata": {},
   "outputs": [],
   "source": []
  }
 ],
 "metadata": {
  "kernelspec": {
   "display_name": "Python 3",
   "language": "python",
   "name": "python3"
  },
  "language_info": {
   "codemirror_mode": {
    "name": "ipython",
    "version": 3
   },
   "file_extension": ".py",
   "mimetype": "text/x-python",
   "name": "python",
   "nbconvert_exporter": "python",
   "pygments_lexer": "ipython3",
   "version": "3.7.3"
  }
 },
 "nbformat": 4,
 "nbformat_minor": 2
}
